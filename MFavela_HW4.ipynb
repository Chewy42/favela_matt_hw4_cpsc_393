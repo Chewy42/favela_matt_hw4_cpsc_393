{
 "cells": [
  {
   "cell_type": "markdown",
   "metadata": {},
   "source": [
    "# CPSC 393 Machine Learning - Homework 4\n",
    "By Matthew Favela"
   ]
  }
 ],
 "metadata": {
  "language_info": {
   "name": "python"
  }
 },
 "nbformat": 4,
 "nbformat_minor": 2
}
